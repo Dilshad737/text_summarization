{
  "nbformat": 4,
  "nbformat_minor": 0,
  "metadata": {
    "colab": {
      "name": "Welcome To Colaboratory",
      "provenance": [],
      "collapsed_sections": []
    },
    "kernelspec": {
      "display_name": "Python 3",
      "name": "python3"
    }
  },
  "cells": [
    {
      "cell_type": "code",
      "metadata": {
        "id": "i5n9OslB0phP",
        "colab_type": "code",
        "colab": {}
      },
      "source": [
        "from gensim.summarization.summarizer import summarize\n",
        "from gensim.summarization import keywords\n",
        "from nltk.tokenize import word_tokenize\n",
        "from nltk.corpus import stopwords\n",
        "from nltk.stem.wordnet import WordNetLemmatizer\n",
        "import string\n",
        "import gensim\n",
        "import gensim.corpora as corpora\n",
        "from gensim.models import coherencemodel\n",
        "from gensim.utils import simple_preprocess\n",
        "import nltk\n",
        "\n",
        "\n",
        "\n",
        "\n",
        "\n",
        "\n",
        "\n"
      ],
      "execution_count": 0,
      "outputs": []
    },
    {
      "cell_type": "code",
      "metadata": {
        "id": "EsGYaVo12QwO",
        "colab_type": "code",
        "colab": {}
      },
      "source": [
        "file = open('sport.txt').read()"
      ],
      "execution_count": 0,
      "outputs": []
    },
    {
      "cell_type": "code",
      "metadata": {
        "id": "8OPwJOSF2Xil",
        "colab_type": "code",
        "colab": {
          "base_uri": "https://localhost:8080/",
          "height": 54
        },
        "outputId": "4c45b83e-c924-49c1-9dba-9656d2146935"
      },
      "source": [
        "file"
      ],
      "execution_count": 11,
      "outputs": [
        {
          "output_type": "execute_result",
          "data": {
            "text/plain": [
              "'Man Utd stroll to Cup win\\\\n\\\\nWayne Rooney made a winning return to Everton as Manchester United cruised into the FA Cup quarter-finals.\\\\n\\\\nRooney received a hostile reception, but goals in each half from Quinton Fortune and Cristiano Ronaldo silenced the jeers at Goodison Park. Fortune headed home after 23 minutes before Ronaldo scored when Nigel Martyn parried Paul Scholes\\\\\\' free-kick. Marcus Bent missed Everton\\\\\\'s best chance when Roy Carroll, who was later struck by a missile, saved at his feet.\\\\n\\\\nRooney\\\\\\'s return was always going to be a potential flashpoint, and he was involved in an angry exchange with a spectator even before kick-off. And Rooney\\\\\\'s every touch was met with a deafening chorus of jeers from the crowd that once idolised the 19-year-old. Everton started brightly and Fortune needed to be alert to scramble away a header from Bent near the goal-line. But that was the cue for United to take complete control with a supreme passing display on a Goodison Park pitch that was cutting up. Fortune gave United the lead after 23 minutes, rising to meet Ronaldo\\\\\\'s cross from eight yards after the Portuguese youngster had been allowed too much time and space by the hapless Gary Naysmith. United dominated without creating too many clear-cut chances, and they almost paid the price for not making the most of their domination two minutes before half-time. Mikel Arteta played a superb ball into the area but Bent, played onside by Gabriel Heintze, hesitated and Carroll plunged at his fee to save. United almost doubled their lead after 48 minutes when Ronaldo\\\\\\'s low drive from 25 yards took a deflection off Tony Hibbert, but Martyn dived to save brilliantly. And Martyn came to Everton\\\\\\'s rescue three minutes later when Rooney\\\\\\'s big moment almost arrived as he raced clean through, but once again the veteran keeper was in outstanding form. But there was nothing Martyn could do when United doubled their lead after 57 minutes as they doubled their advantage. Scholes\\\\\\' free-kick took a deflection, and Martyn could only parry the ball out for Ronaldo, who reacted first to score easily. Everton\\\\\\'s problems worsened when James McFadden limped off with an injury. And there may be further trouble ahead for Everton after goalkeeper Carroll required treatment after he was struck on the head by a missile thrown from behind the goal. Rooney\\\\\\'s desperate search for a goal on his return to Everton was halted again by Martyn in injury-time when he outpaced Stubbs, but once again Martyn denied the England striker.\\\\n\\\\n- Manchester United coach Sir Alex Ferguson: \"It was a fantastic performance by us. In fairness I think Everton have missed a couple of players and got some young players out. \"The boy Ronaldo is a fantastic player. He\\\\\\'s persistent and never gives in. \"I don\\\\\\'t know how many fouls he had He gets up and wants the ball again, he\\\\\\'s truly a fabulous player.\" Everton: Martyn, Hibbert, Yobo, Stubbs, Naysmith, Osman, Carsley, Arteta, Kilbane, McFadden, Bent. Subs: Wright, Pistone, Weir, Plessis, Vaughan. Manchester United: Carroll, Gary Neville, Brown, Ferdinand, Heinze, Ronaldo, Phil Neville, Keane, Scholes, Fortune, Rooney. Subs: Howard, Giggs, Smith, Miller, Spector. Referee: R Styles (Hampshire)\\n'"
            ]
          },
          "metadata": {
            "tags": []
          },
          "execution_count": 11
        }
      ]
    },
    {
      "cell_type": "code",
      "metadata": {
        "id": "bbmoRN8U2IfI",
        "colab_type": "code",
        "colab": {}
      },
      "source": [
        "def get_summary(text,pct):\n",
        "    return summarize(text,ratio=pct,split=True)\n",
        "\n",
        "\n",
        "def get_keywords(text,lemme):\n",
        "    res = keywords(text, ratio=0.1,\n",
        "                   words=None,\n",
        "                   split=False,\n",
        "                   scores=False,\n",
        "                   pos_filter=('NN', 'JJ'),\n",
        "                   lemmatize=lemme,\n",
        "                   deacc=False)\n",
        "    res = res.split('\\n')\n",
        "    return res"
      ],
      "execution_count": 0,
      "outputs": []
    },
    {
      "cell_type": "code",
      "metadata": {
        "id": "H8VHxur612aK",
        "colab_type": "code",
        "colab": {
          "base_uri": "https://localhost:8080/",
          "height": 156
        },
        "outputId": "b9cd294c-192a-4666-9b71-c070eb83e67f"
      },
      "source": [
        "get_summary(file,0.3)"
      ],
      "execution_count": 13,
      "outputs": [
        {
          "output_type": "execute_result",
          "data": {
            "text/plain": [
              "['Man Utd stroll to Cup win\\\\n\\\\nWayne Rooney made a winning return to Everton as Manchester United cruised into the FA Cup quarter-finals.\\\\n\\\\nRooney received a hostile reception, but goals in each half from Quinton Fortune and Cristiano Ronaldo silenced the jeers at Goodison Park.',\n",
              " \"Fortune headed home after 23 minutes before Ronaldo scored when Nigel Martyn parried Paul Scholes\\\\' free-kick.\",\n",
              " \"Marcus Bent missed Everton\\\\'s best chance when Roy Carroll, who was later struck by a missile, saved at his feet.\\\\n\\\\nRooney\\\\'s return was always going to be a potential flashpoint, and he was involved in an angry exchange with a spectator even before kick-off.\",\n",
              " \"Fortune gave United the lead after 23 minutes, rising to meet Ronaldo\\\\'s cross from eight yards after the Portuguese youngster had been allowed too much time and space by the hapless Gary Naysmith.\",\n",
              " \"United almost doubled their lead after 48 minutes when Ronaldo\\\\'s low drive from 25 yards took a deflection off Tony Hibbert, but Martyn dived to save brilliantly.\",\n",
              " \"Scholes\\\\' free-kick took a deflection, and Martyn could only parry the ball out for Ronaldo, who reacted first to score easily.\",\n",
              " 'Manchester United: Carroll, Gary Neville, Brown, Ferdinand, Heinze, Ronaldo, Phil Neville, Keane, Scholes, Fortune, Rooney.']"
            ]
          },
          "metadata": {
            "tags": []
          },
          "execution_count": 13
        }
      ]
    },
    {
      "cell_type": "code",
      "metadata": {
        "id": "gE_zbA6u11Px",
        "colab_type": "code",
        "colab": {
          "base_uri": "https://localhost:8080/",
          "height": 289
        },
        "outputId": "be2c2429-270b-4ec9-f5cc-3bfd7e075135"
      },
      "source": [
        "get_keywords(file,True)"
      ],
      "execution_count": 14,
      "outputs": [
        {
          "output_type": "execute_result",
          "data": {
            "text/plain": [
              "['united',\n",
              " 'ronaldo',\n",
              " 'martyn',\n",
              " 'everton',\n",
              " 'fortune',\n",
              " 'carroll',\n",
              " 'bent',\n",
              " 'scholes',\n",
              " 'player',\n",
              " 'mcfadden',\n",
              " 'rooney',\n",
              " 'arteta',\n",
              " 'subs',\n",
              " 'gary',\n",
              " 'neville',\n",
              " 'naysmith']"
            ]
          },
          "metadata": {
            "tags": []
          },
          "execution_count": 14
        }
      ]
    }
  ]
}